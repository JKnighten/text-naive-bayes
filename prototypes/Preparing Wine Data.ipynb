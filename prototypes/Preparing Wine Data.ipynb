{
 "cells": [
  {
   "cell_type": "code",
   "execution_count": 29,
   "metadata": {
    "collapsed": false
   },
   "outputs": [],
   "source": [
    "# Imports\n",
    "import nltk"
   ]
  },
  {
   "cell_type": "code",
   "execution_count": null,
   "metadata": {
    "collapsed": true
   },
   "outputs": [],
   "source": [
    "# Download WebText Corpus If Not Already Downloaded\n",
    "nltk.download('webtext')\n",
    "from nltk.corpus import webtext"
   ]
  },
  {
   "cell_type": "markdown",
   "metadata": {},
   "source": [
    "## Basic Parsing And Parsing Testing"
   ]
  },
  {
   "cell_type": "code",
   "execution_count": 17,
   "metadata": {
    "collapsed": false
   },
   "outputs": [],
   "source": [
    "# Get Raw Data\n",
    "wine_raw_text = webtext.raw(\"wine.txt\")"
   ]
  },
  {
   "cell_type": "code",
   "execution_count": 24,
   "metadata": {
    "collapsed": false
   },
   "outputs": [
    {
     "name": "stdout",
     "output_type": "stream",
     "text": [
      "Number of Reviews: 1348\n",
      "Review 1: Lovely delicate, fragrant Rhone wine. Polished leather and strawberries. Perhaps a bit dilute, but good for drinking now. ***\n"
     ]
    }
   ],
   "source": [
    "# Break Raw Data Into Individual Reviews\n",
    "wine_reviews_raw = wine_raw_text.split(\"\\n\")\n",
    "\n",
    "print(\"Number of Reviews: \" + str(len(wine_reviews_raw)))\n",
    "print(\"Review 1: \" + wine_reviews_raw[0])"
   ]
  },
  {
   "cell_type": "markdown",
   "metadata": {},
   "source": [
    "## Creating A Bag of Words From Each Review"
   ]
  },
  {
   "cell_type": "code",
   "execution_count": 25,
   "metadata": {
    "collapsed": false
   },
   "outputs": [
    {
     "name": "stdout",
     "output_type": "stream",
     "text": [
      "['Lovely', 'delicate,', 'fragrant', 'Rhone', 'wine.', 'Polished', 'leather', 'and', 'strawberries.', 'Perhaps', 'a', 'bit', 'dilute,', 'but', 'good', 'for', 'drinking', 'now.', '***']\n"
     ]
    }
   ],
   "source": [
    "# Attempt Splitting A Single Review\n",
    "print(wine_reviews_raw[0].split())"
   ]
  },
  {
   "cell_type": "markdown",
   "metadata": {},
   "source": [
    "Two Issues\n",
    "1. Capitalization \n",
    "2. Punctuation"
   ]
  },
  {
   "cell_type": "code",
   "execution_count": 27,
   "metadata": {
    "collapsed": false
   },
   "outputs": [
    {
     "name": "stdout",
     "output_type": "stream",
     "text": [
      "lovely delicate, fragrant rhone wine. polished leather and strawberries. perhaps a bit dilute, but good for drinking now. ***\n"
     ]
    }
   ],
   "source": [
    "# Lowercase Conversion\n",
    "print(wine_reviews_raw[0].lower())"
   ]
  },
  {
   "cell_type": "code",
   "execution_count": 32,
   "metadata": {
    "collapsed": false
   },
   "outputs": [
    {
     "name": "stdout",
     "output_type": "stream",
     "text": [
      "Lovely delicate fragrant Rhone wine Polished leather and strawberries Perhaps a bit dilute but good for drinking now \n"
     ]
    }
   ],
   "source": [
    "# Remove Punctuation\n",
    "translator = str.maketrans('', '', string.punctuation)\n",
    "print(wine_reviews_raw[0].translate(translator))"
   ]
  },
  {
   "cell_type": "markdown",
   "metadata": {},
   "source": [
    "Note - We will need to remove the score before removing all punctuation"
   ]
  },
  {
   "cell_type": "markdown",
   "metadata": {},
   "source": [
    "## Create Classification Labels For Reviews"
   ]
  },
  {
   "cell_type": "code",
   "execution_count": 96,
   "metadata": {
    "collapsed": false
   },
   "outputs": [
    {
     "name": "stdout",
     "output_type": "stream",
     "text": [
      "Number of scores: 1348\n"
     ]
    }
   ],
   "source": [
    "scores = []\n",
    "for review in wine_reviews_raw:\n",
    "    \n",
    "    if \"*\" in review:\n",
    "        \n",
    "        asterisk_count = review.count(\"*\")\n",
    "        \n",
    "        if \"(*)\" in review:\n",
    "            asterisk_count -= 1\n",
    "        \n",
    "        scores.append(asterisk_count)\n",
    "    else:\n",
    "        scores.append(0)\n",
    "        \n",
    "        \n",
    "print(\"Number of scores: \" + str(len(scores)))"
   ]
  },
  {
   "cell_type": "code",
   "execution_count": 97,
   "metadata": {
    "collapsed": false
   },
   "outputs": [
    {
     "name": "stdout",
     "output_type": "stream",
     "text": [
      "Number of 0 Labels: 470\n",
      "Number of 1 Labels: 878\n"
     ]
    }
   ],
   "source": [
    "# Create Two Level Labels\n",
    "# 0 If Score Is 2 or Lower (Bad Wine)\n",
    "# 1 If Score Is 3 Or Higher (Good Wine)\n",
    "\n",
    "labels_two_level = []\n",
    "for score in scores:\n",
    "    if score <= 2:\n",
    "        labels_two_level.append(0)\n",
    "    else:\n",
    "        labels_two_level.append(1)\n",
    "        \n",
    "        \n",
    "print(\"Number of 0 Labels: \" + str(len(list(filter(lambda x: x == 0, labels_two_level)))))\n",
    "print(\"Number of 1 Labels: \" + str(len(list(filter(lambda x: x == 1, labels_two_level)))))"
   ]
  },
  {
   "cell_type": "markdown",
   "metadata": {},
   "source": [
    "##  Create Bag of Words For Each Classification Label"
   ]
  },
  {
   "cell_type": "code",
   "execution_count": 71,
   "metadata": {
    "collapsed": false
   },
   "outputs": [],
   "source": [
    "label_bag_of_words = [\"\", \"\"]\n",
    "\n",
    "for i, review in enumerate(wine_reviews_raw):\n",
    "    \n",
    "    if labels_two_level[i] == 0:\n",
    "        \n",
    "        # Remove \"No Stars\" From Reviews With 0 Stars\n",
    "        if \"No Stars\" in review:\n",
    "            review = review.replace('No Stars','')\n",
    "            \n",
    "        label_bag_of_words[0] += review.lower().translate(translator) + \" \"\n",
    "    else:\n",
    "        label_bag_of_words[1] += review.lower().translate(translator) + \" \"\n",
    "        "
   ]
  },
  {
   "cell_type": "markdown",
   "metadata": {},
   "source": [
    "## Tokenize Each Bag of Words And Create Frequency Distribution"
   ]
  },
  {
   "cell_type": "code",
   "execution_count": 99,
   "metadata": {
    "collapsed": false
   },
   "outputs": [
    {
     "name": "stdout",
     "output_type": "stream",
     "text": [
      "<FreqDist with 1430 samples and 5800 outcomes>\n",
      "Top 50 Frequent Words:\n",
      "[('a', 263), ('and', 192), ('the', 186), ('but', 124), ('of', 118), ('not', 100), ('i', 91), ('it', 80), ('to', 80), ('fruit', 78), ('good', 77), ('bit', 73), ('quite', 71), ('this', 68), ('wine', 63), ('very', 59), ('in', 56), ('with', 53), ('rated', 48), ('top', 48), ('is', 43), ('rather', 42), ('for', 40), ('that', 38), ('on', 36), ('some', 33), ('nice', 33), ('dry', 32), ('touch', 31), ('at', 29), ('be', 29), ('from', 28), ('was', 26), ('more', 25), ('pleasant', 25), ('bottle', 24), ('just', 23), ('an', 23), ('nose', 23), ('slightly', 20), ('wines', 20), ('its', 20), ('than', 19), ('have', 19), ('one', 19), ('so', 18), ('palate', 18), ('pure', 17), ('rich', 17), ('like', 17)]\n"
     ]
    }
   ],
   "source": [
    "# Label 0 Tokens and Distribution\n",
    "label_0_tokens = nltk.tokenize.word_tokenize(label_bag_of_words[0])\n",
    "\n",
    "freq_dist_0 = nltk.FreqDist(label_0_tokens)\n",
    "print(freq_dist_0)\n",
    "print(\"Top 50 Frequent Words For Label 0:\\n\" + str(freq_dist_0.most_common(50)))"
   ]
  },
  {
   "cell_type": "code",
   "execution_count": 100,
   "metadata": {
    "collapsed": false
   },
   "outputs": [
    {
     "name": "stdout",
     "output_type": "stream",
     "text": [
      "<FreqDist with 2395 samples and 18058 outcomes>\n",
      "Top 50 Frequent Words For Label 1:\n",
      "[('a', 788), ('and', 596), ('the', 558), ('but', 367), ('of', 364), ('very', 321), ('good', 286), ('i', 245), ('it', 236), ('quite', 232), ('to', 228), ('this', 221), ('fruit', 217), ('with', 206), ('wine', 167), ('top', 167), ('in', 163), ('lovely', 159), ('bit', 144), ('is', 138), ('touch', 129), ('bare', 128), ('nose', 127), ('not', 124), ('more', 120), ('on', 117), ('nice', 115), ('for', 115), ('that', 112), ('dry', 110), ('at', 107), ('palate', 97), ('rather', 91), ('fine', 91), ('drinking', 84), ('be', 83), ('still', 79), ('rich', 79), ('from', 79), ('its', 77), ('long', 75), ('than', 74), ('perhaps', 72), ('time', 69), ('some', 66), ('really', 65), ('finish', 64), ('too', 62), ('so', 58), ('balance', 57)]\n"
     ]
    }
   ],
   "source": [
    "# Label 1 Tokens and Distribution\n",
    "label_1_tokens = nltk.tokenize.word_tokenize(label_bag_of_words[1])\n",
    "\n",
    "freq_dist_1 = nltk.FreqDist(label_1_tokens)\n",
    "print(freq_dist_1)\n",
    "print(\"Top 50 Frequent Words For Label 1:\\n\" + str(freq_dist_1.most_common(50)))"
   ]
  },
  {
   "cell_type": "markdown",
   "metadata": {},
   "source": [
    "## Create Dictionary Of All Words"
   ]
  },
  {
   "cell_type": "code",
   "execution_count": 102,
   "metadata": {
    "collapsed": false
   },
   "outputs": [
    {
     "name": "stdout",
     "output_type": "stream",
     "text": [
      "Number Of Unique Words: 2946\n"
     ]
    }
   ],
   "source": [
    "wines_dictionary = set(freq_dist_0.keys()).union(set(freq_dist_1.keys()))\n",
    "print(\"Number Of Unique Words: \" + str(len(wines_dictionary)))"
   ]
  },
  {
   "cell_type": "markdown",
   "metadata": {},
   "source": [
    "## Remove Top N Frequent Words From Each Label  From The Dictionary"
   ]
  },
  {
   "cell_type": "code",
   "execution_count": 103,
   "metadata": {
    "collapsed": false
   },
   "outputs": [
    {
     "name": "stdout",
     "output_type": "stream",
     "text": [
      "{'the', 'nose', 'rich', 'nice', 'is', 'touch', 'slightly', 'pleasant', 'rated', 'dry', 'bit', 'but', 'very', 'on', 'to', 'of', 'more', 'and', 'with', 'be', 'at', 'fruit', 'one', 'bottle', 'its', 'was', 'an', 'so', 'some', 'this', 'wines', 'wine', 'it', 'from', 'just', 'a', 'have', 'palate', 'good', 'i', 'quite', 'pure', 'rather', 'top', 'for', 'that', 'not', 'in', 'than', 'like'}\n",
      "{'the', 'long', 'nose', 'rich', 'nice', 'finish', 'still', 'is', 'touch', 'time', 'dry', 'really', 'bit', 'but', 'very', 'on', 'to', 'of', 'more', 'and', 'with', 'be', 'at', 'fruit', 'its', 'so', 'some', 'fine', 'this', 'wine', 'drinking', 'lovely', 'it', 'from', 'perhaps', 'a', 'palate', 'good', 'i', 'quite', 'rather', 'top', 'too', 'for', 'that', 'not', 'balance', 'bare', 'in', 'than'}\n"
     ]
    }
   ],
   "source": [
    "n = 50\n",
    "label_0_top_50 = {word for word, freq in freq_dist_0.most_common(n)}\n",
    "label_1_top_50 = {word for word, freq in freq_dist_1.most_common(n)}\n",
    "\n",
    "print(label_0_top_50)\n",
    "print(label_1_top_50)"
   ]
  },
  {
   "cell_type": "code",
   "execution_count": 104,
   "metadata": {
    "collapsed": false
   },
   "outputs": [
    {
     "name": "stdout",
     "output_type": "stream",
     "text": [
      "Number Of Unique Words After Top N From Each Label Removed: 2884\n"
     ]
    }
   ],
   "source": [
    "wine_dict_top_removed = (wines_dictionary-label_0_top_50)-label_1_top_50\n",
    "print(\"Number Of Unique Words After Top N From Each Label Removed: \" + str(len(wine_dict_top_removed)))"
   ]
  },
  {
   "cell_type": "code",
   "execution_count": 106,
   "metadata": {
    "collapsed": false
   },
   "outputs": [
    {
     "name": "stdout",
     "output_type": "stream",
     "text": [
      "<FreqDist with 1368 samples and 2958 outcomes>\n",
      "<FreqDist with 2333 samples and 9077 outcomes>\n"
     ]
    }
   ],
   "source": [
    "for word_to_remove in label_0_top_50.union(label_1_top_50):\n",
    "    del freq_dist_0[word_to_remove]\n",
    "    del freq_dist_1[word_to_remove]\n",
    "    \n",
    "print(freq_dist_0)\n",
    "print(freq_dist_1)"
   ]
  },
  {
   "cell_type": "markdown",
   "metadata": {},
   "source": [
    "## Final Naive Bayes Data Format\n",
    "\n",
    "This is what im currently expecting as input to the classifier."
   ]
  },
  {
   "cell_type": "code",
   "execution_count": 107,
   "metadata": {
    "collapsed": true
   },
   "outputs": [],
   "source": [
    "wine_data = {}\n",
    "wine_data[0] = freq_dist_0\n",
    "wine_data[1] = freq_dist_1\n",
    "win_dict = wine_dict_top_removed"
   ]
  },
  {
   "cell_type": "code",
   "execution_count": null,
   "metadata": {
    "collapsed": true
   },
   "outputs": [],
   "source": []
  }
 ],
 "metadata": {
  "kernelspec": {
   "display_name": "nb-env-Python3",
   "language": "python",
   "name": "nb-env-python3"
  },
  "language_info": {
   "codemirror_mode": {
    "name": "ipython",
    "version": 3
   },
   "file_extension": ".py",
   "mimetype": "text/x-python",
   "name": "python",
   "nbconvert_exporter": "python",
   "pygments_lexer": "ipython3",
   "version": "3.5.2"
  }
 },
 "nbformat": 4,
 "nbformat_minor": 0
}
