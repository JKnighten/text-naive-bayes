{
 "cells": [
  {
   "cell_type": "code",
   "execution_count": 115,
   "metadata": {
    "collapsed": false
   },
   "outputs": [],
   "source": [
    "# Imports\n",
    "import nltk\n",
    "import numpy as np"
   ]
  },
  {
   "cell_type": "code",
   "execution_count": null,
   "metadata": {
    "collapsed": true
   },
   "outputs": [],
   "source": [
    "# Download WebText Corpus If Not Already Downloaded\n",
    "nltk.download('webtext')\n",
    "from nltk.corpus import webtext"
   ]
  },
  {
   "cell_type": "markdown",
   "metadata": {},
   "source": [
    "## Basic Parsing And Parsing Testing"
   ]
  },
  {
   "cell_type": "code",
   "execution_count": 17,
   "metadata": {
    "collapsed": false
   },
   "outputs": [],
   "source": [
    "# Get Raw Data\n",
    "wine_raw_text = webtext.raw(\"wine.txt\")"
   ]
  },
  {
   "cell_type": "code",
   "execution_count": 24,
   "metadata": {
    "collapsed": false
   },
   "outputs": [
    {
     "name": "stdout",
     "output_type": "stream",
     "text": [
      "Number of Reviews: 1348\n",
      "Review 1: Lovely delicate, fragrant Rhone wine. Polished leather and strawberries. Perhaps a bit dilute, but good for drinking now. ***\n"
     ]
    }
   ],
   "source": [
    "# Break Raw Data Into Individual Reviews\n",
    "wine_reviews_raw = wine_raw_text.split(\"\\n\")\n",
    "\n",
    "print(\"Number of Reviews: \" + str(len(wine_reviews_raw)))\n",
    "print(\"Review 1: \" + wine_reviews_raw[0])"
   ]
  },
  {
   "cell_type": "markdown",
   "metadata": {},
   "source": [
    "## Creating A Bag of Words From Each Review"
   ]
  },
  {
   "cell_type": "code",
   "execution_count": 25,
   "metadata": {
    "collapsed": false
   },
   "outputs": [
    {
     "name": "stdout",
     "output_type": "stream",
     "text": [
      "['Lovely', 'delicate,', 'fragrant', 'Rhone', 'wine.', 'Polished', 'leather', 'and', 'strawberries.', 'Perhaps', 'a', 'bit', 'dilute,', 'but', 'good', 'for', 'drinking', 'now.', '***']\n"
     ]
    }
   ],
   "source": [
    "# Attempt Splitting A Single Review\n",
    "print(wine_reviews_raw[0].split())"
   ]
  },
  {
   "cell_type": "markdown",
   "metadata": {},
   "source": [
    "Two Issues\n",
    "1. Capitalization \n",
    "2. Punctuation"
   ]
  },
  {
   "cell_type": "code",
   "execution_count": 27,
   "metadata": {
    "collapsed": false
   },
   "outputs": [
    {
     "name": "stdout",
     "output_type": "stream",
     "text": [
      "lovely delicate, fragrant rhone wine. polished leather and strawberries. perhaps a bit dilute, but good for drinking now. ***\n"
     ]
    }
   ],
   "source": [
    "# Lowercase Conversion\n",
    "print(wine_reviews_raw[0].lower())"
   ]
  },
  {
   "cell_type": "code",
   "execution_count": 32,
   "metadata": {
    "collapsed": false
   },
   "outputs": [
    {
     "name": "stdout",
     "output_type": "stream",
     "text": [
      "Lovely delicate fragrant Rhone wine Polished leather and strawberries Perhaps a bit dilute but good for drinking now \n"
     ]
    }
   ],
   "source": [
    "# Remove Punctuation\n",
    "translator = str.maketrans('', '', string.punctuation)\n",
    "print(wine_reviews_raw[0].translate(translator))"
   ]
  },
  {
   "cell_type": "markdown",
   "metadata": {},
   "source": [
    "Note - We will need to remove the score before removing all punctuation"
   ]
  },
  {
   "cell_type": "markdown",
   "metadata": {},
   "source": [
    "## Create Classification Labels For Reviews"
   ]
  },
  {
   "cell_type": "code",
   "execution_count": 96,
   "metadata": {
    "collapsed": false
   },
   "outputs": [
    {
     "name": "stdout",
     "output_type": "stream",
     "text": [
      "Number of scores: 1348\n"
     ]
    }
   ],
   "source": [
    "scores = []\n",
    "for review in wine_reviews_raw:\n",
    "    \n",
    "    if \"*\" in review:\n",
    "        \n",
    "        asterisk_count = review.count(\"*\")\n",
    "        \n",
    "        if \"(*)\" in review:\n",
    "            asterisk_count -= 1\n",
    "        \n",
    "        scores.append(asterisk_count)\n",
    "    else:\n",
    "        scores.append(0)\n",
    "        \n",
    "        \n",
    "print(\"Number of scores: \" + str(len(scores)))"
   ]
  },
  {
   "cell_type": "code",
   "execution_count": 97,
   "metadata": {
    "collapsed": false
   },
   "outputs": [
    {
     "name": "stdout",
     "output_type": "stream",
     "text": [
      "Number of 0 Labels: 470\n",
      "Number of 1 Labels: 878\n"
     ]
    }
   ],
   "source": [
    "# Create Two Level Labels\n",
    "# 0 If Score Is 2 or Lower (Bad Wine)\n",
    "# 1 If Score Is 3 Or Higher (Good Wine)\n",
    "\n",
    "labels_two_level = []\n",
    "for score in scores:\n",
    "    if score <= 2:\n",
    "        labels_two_level.append(0)\n",
    "    else:\n",
    "        labels_two_level.append(1)\n",
    "        \n",
    "        \n",
    "print(\"Number of 0 Labels: \" + str(len(list(filter(lambda x: x == 0, labels_two_level)))))\n",
    "print(\"Number of 1 Labels: \" + str(len(list(filter(lambda x: x == 1, labels_two_level)))))"
   ]
  },
  {
   "cell_type": "markdown",
   "metadata": {},
   "source": [
    "##  Create Bag of Words For Each Classification Label"
   ]
  },
  {
   "cell_type": "code",
   "execution_count": 71,
   "metadata": {
    "collapsed": false
   },
   "outputs": [],
   "source": [
    "label_bag_of_words = [\"\", \"\"]\n",
    "\n",
    "for i, review in enumerate(wine_reviews_raw):\n",
    "    \n",
    "    if labels_two_level[i] == 0:\n",
    "        \n",
    "        # Remove \"No Stars\" From Reviews With 0 Stars\n",
    "        if \"No Stars\" in review:\n",
    "            review = review.replace('No Stars','')\n",
    "            \n",
    "        label_bag_of_words[0] += review.lower().translate(translator) + \" \"\n",
    "    else:\n",
    "        label_bag_of_words[1] += review.lower().translate(translator) + \" \"\n",
    "        "
   ]
  },
  {
   "cell_type": "markdown",
   "metadata": {},
   "source": [
    "## Tokenize Each Bag of Words And Create Frequency Distribution"
   ]
  },
  {
   "cell_type": "code",
   "execution_count": 99,
   "metadata": {
    "collapsed": false
   },
   "outputs": [
    {
     "name": "stdout",
     "output_type": "stream",
     "text": [
      "<FreqDist with 1430 samples and 5800 outcomes>\n",
      "Top 50 Frequent Words:\n",
      "[('a', 263), ('and', 192), ('the', 186), ('but', 124), ('of', 118), ('not', 100), ('i', 91), ('it', 80), ('to', 80), ('fruit', 78), ('good', 77), ('bit', 73), ('quite', 71), ('this', 68), ('wine', 63), ('very', 59), ('in', 56), ('with', 53), ('rated', 48), ('top', 48), ('is', 43), ('rather', 42), ('for', 40), ('that', 38), ('on', 36), ('some', 33), ('nice', 33), ('dry', 32), ('touch', 31), ('at', 29), ('be', 29), ('from', 28), ('was', 26), ('more', 25), ('pleasant', 25), ('bottle', 24), ('just', 23), ('an', 23), ('nose', 23), ('slightly', 20), ('wines', 20), ('its', 20), ('than', 19), ('have', 19), ('one', 19), ('so', 18), ('palate', 18), ('pure', 17), ('rich', 17), ('like', 17)]\n"
     ]
    }
   ],
   "source": [
    "# Label 0 Tokens and Distribution\n",
    "label_0_tokens = nltk.tokenize.word_tokenize(label_bag_of_words[0])\n",
    "\n",
    "freq_dist_0 = nltk.FreqDist(label_0_tokens)\n",
    "print(freq_dist_0)\n",
    "print(\"Top 50 Frequent Words For Label 0:\\n\" + str(freq_dist_0.most_common(50)))"
   ]
  },
  {
   "cell_type": "code",
   "execution_count": 100,
   "metadata": {
    "collapsed": false
   },
   "outputs": [
    {
     "name": "stdout",
     "output_type": "stream",
     "text": [
      "<FreqDist with 2395 samples and 18058 outcomes>\n",
      "Top 50 Frequent Words For Label 1:\n",
      "[('a', 788), ('and', 596), ('the', 558), ('but', 367), ('of', 364), ('very', 321), ('good', 286), ('i', 245), ('it', 236), ('quite', 232), ('to', 228), ('this', 221), ('fruit', 217), ('with', 206), ('wine', 167), ('top', 167), ('in', 163), ('lovely', 159), ('bit', 144), ('is', 138), ('touch', 129), ('bare', 128), ('nose', 127), ('not', 124), ('more', 120), ('on', 117), ('nice', 115), ('for', 115), ('that', 112), ('dry', 110), ('at', 107), ('palate', 97), ('rather', 91), ('fine', 91), ('drinking', 84), ('be', 83), ('still', 79), ('rich', 79), ('from', 79), ('its', 77), ('long', 75), ('than', 74), ('perhaps', 72), ('time', 69), ('some', 66), ('really', 65), ('finish', 64), ('too', 62), ('so', 58), ('balance', 57)]\n"
     ]
    }
   ],
   "source": [
    "# Label 1 Tokens and Distribution\n",
    "label_1_tokens = nltk.tokenize.word_tokenize(label_bag_of_words[1])\n",
    "\n",
    "freq_dist_1 = nltk.FreqDist(label_1_tokens)\n",
    "print(freq_dist_1)\n",
    "print(\"Top 50 Frequent Words For Label 1:\\n\" + str(freq_dist_1.most_common(50)))"
   ]
  },
  {
   "cell_type": "markdown",
   "metadata": {},
   "source": [
    "## Create Dictionary Of All Words"
   ]
  },
  {
   "cell_type": "code",
   "execution_count": 102,
   "metadata": {
    "collapsed": false
   },
   "outputs": [
    {
     "name": "stdout",
     "output_type": "stream",
     "text": [
      "Number Of Unique Words: 2946\n"
     ]
    }
   ],
   "source": [
    "wines_dictionary = set(freq_dist_0.keys()).union(set(freq_dist_1.keys()))\n",
    "print(\"Number Of Unique Words: \" + str(len(wines_dictionary)))"
   ]
  },
  {
   "cell_type": "markdown",
   "metadata": {},
   "source": [
    "## Remove Top N Frequent Words From Each Label  From The Dictionary"
   ]
  },
  {
   "cell_type": "code",
   "execution_count": 103,
   "metadata": {
    "collapsed": false
   },
   "outputs": [
    {
     "name": "stdout",
     "output_type": "stream",
     "text": [
      "{'the', 'nose', 'rich', 'nice', 'is', 'touch', 'slightly', 'pleasant', 'rated', 'dry', 'bit', 'but', 'very', 'on', 'to', 'of', 'more', 'and', 'with', 'be', 'at', 'fruit', 'one', 'bottle', 'its', 'was', 'an', 'so', 'some', 'this', 'wines', 'wine', 'it', 'from', 'just', 'a', 'have', 'palate', 'good', 'i', 'quite', 'pure', 'rather', 'top', 'for', 'that', 'not', 'in', 'than', 'like'}\n",
      "{'the', 'long', 'nose', 'rich', 'nice', 'finish', 'still', 'is', 'touch', 'time', 'dry', 'really', 'bit', 'but', 'very', 'on', 'to', 'of', 'more', 'and', 'with', 'be', 'at', 'fruit', 'its', 'so', 'some', 'fine', 'this', 'wine', 'drinking', 'lovely', 'it', 'from', 'perhaps', 'a', 'palate', 'good', 'i', 'quite', 'rather', 'top', 'too', 'for', 'that', 'not', 'balance', 'bare', 'in', 'than'}\n"
     ]
    }
   ],
   "source": [
    "n = 50\n",
    "label_0_top_50 = {word for word, freq in freq_dist_0.most_common(n)}\n",
    "label_1_top_50 = {word for word, freq in freq_dist_1.most_common(n)}\n",
    "\n",
    "print(label_0_top_50)\n",
    "print(label_1_top_50)"
   ]
  },
  {
   "cell_type": "code",
   "execution_count": 104,
   "metadata": {
    "collapsed": false
   },
   "outputs": [
    {
     "name": "stdout",
     "output_type": "stream",
     "text": [
      "Number Of Unique Words After Top N From Each Label Removed: 2884\n"
     ]
    }
   ],
   "source": [
    "wine_dict_top_removed = (wines_dictionary-label_0_top_50)-label_1_top_50\n",
    "print(\"Number Of Unique Words After Top N From Each Label Removed: \" + str(len(wine_dict_top_removed)))"
   ]
  },
  {
   "cell_type": "code",
   "execution_count": 106,
   "metadata": {
    "collapsed": false
   },
   "outputs": [
    {
     "name": "stdout",
     "output_type": "stream",
     "text": [
      "<FreqDist with 1368 samples and 2958 outcomes>\n",
      "<FreqDist with 2333 samples and 9077 outcomes>\n"
     ]
    }
   ],
   "source": [
    "for word_to_remove in label_0_top_50.union(label_1_top_50):\n",
    "    del freq_dist_0[word_to_remove]\n",
    "    del freq_dist_1[word_to_remove]\n",
    "    \n",
    "print(freq_dist_0)\n",
    "print(freq_dist_1)"
   ]
  },
  {
   "cell_type": "markdown",
   "metadata": {},
   "source": [
    "## Final Naive Bayes Data Format\n",
    "\n",
    "This is what im currently expecting as input to the classifier."
   ]
  },
  {
   "cell_type": "code",
   "execution_count": 107,
   "metadata": {
    "collapsed": true
   },
   "outputs": [],
   "source": [
    "wine_data = {}\n",
    "wine_data[0] = freq_dist_0\n",
    "wine_data[1] = freq_dist_1\n",
    "win_dict = wine_dict_top_removed"
   ]
  },
  {
   "cell_type": "code",
   "execution_count": 112,
   "metadata": {
    "collapsed": false
   },
   "outputs": [
    {
     "name": "stdout",
     "output_type": "stream",
     "text": [
      "2884\n"
     ]
    }
   ],
   "source": [
    "from functools import reduce\n",
    "dictionary = reduce(lambda key_a, key_b: set(wine_data[key_a].keys()).union(set(wine_data[key_b].keys())), wine_data)\n",
    "print(len(dictionary))"
   ]
  },
  {
   "cell_type": "markdown",
   "metadata": {},
   "source": [
    "# Get Vectorized Data"
   ]
  },
  {
   "cell_type": "code",
   "execution_count": 130,
   "metadata": {
    "collapsed": false
   },
   "outputs": [],
   "source": [
    "# Hold Vectors\n",
    "data_as_vectors = np.zeros((len(wine_reviews_raw), len(dictionary)))"
   ]
  },
  {
   "cell_type": "code",
   "execution_count": 131,
   "metadata": {
    "collapsed": false
   },
   "outputs": [
    {
     "name": "stdout",
     "output_type": "stream",
     "text": [
      "{'oxidative': 0, 'warmclimatelike': 3, 'bananas': 4, 'wellstructured': 6, 'plus': 7, 'everybody': 9, 'insight': 10, 'somewhat': 1, 'carry': 11, 'probably': 12, 'floury': 13, 'except': 14, 'joyfully': 501, 'article': 15, 'fragile': 16, '98': 18, 'corky': 19, 'side': 20, 'group': 21, 'pleasnat': 2, 'contrived': 22, 'etheriel': 23, 'lazy': 24, 'handled': 25, 'leaner': 983, 'car': 28, 'always': 27, 'glimpse': 29, 'june': 2791, 'syrahlike': 31, 'oddly': 502, 'silkytextured': 32, '939495': 34, 'hours': 36, 'chapel': 35, 'spring': 37, 'rancio': 38, 'surfing': 39, 'expression': 8, 'recommendable': 40, 'floral': 41, 'middle': 43, 'supple': 44, 'syrah': 1059, 'berryish': 45, 'bbq': 46, 'none': 47, 'infants': 48, 'oldvine': 49, 'honeysuckle': 50, 'fuit': 51, 'warms': 52, 'corruption': 53, 'game': 54, 'citric': 55, 'cigary': 56, 'stages': 57, 'dull': 1336, 'greenrimmed': 506, 'hour': 58, 'sherberty': 59, 'lightmedium': 60, 'dark': 61, 'nicely': 63, 'condition': 64, 'worked': 65, 'tokaji': 68, 'overaustere': 69, 'certainly': 2396, 'manifestation': 70, 'apparantly': 992, 'sickly': 71, 'longer': 72, 'evident': 73, 'pudding': 74, 'described': 75, 'deepening': 76, 'under': 77, 'whatever': 81, 'intersting': 79, 'putting': 82, 'flashy': 83, 'contained': 86, 'fresh': 85, 'goats': 88, 'brunello': 90, 'orangerimmed': 91, 'buzz': 92, 'much': 511, 'boring': 95, 'reputation': 94, 'heaviness': 96, 'set': 97, 'unlike': 98, 'thus': 99, 'transparent': 100, 'sniff': 101, 'merging': 105, 'needing': 103, 'fut': 104, 'delicate': 1279, 'meursault': 106, 'puts': 108, 'badly': 17, 'sampling': 109, 'backwards': 111, 'needed': 113, 'highquality': 115, 'bon': 116, 'developing': 119, 'chalky': 118, 'take': 120, 'constructed': 516, 'feels': 2750, 'improvement': 121, 'scored': 122, 'barton': 124, 'sit': 125, 'sauvage': 1470, 'hard': 126, 'varietoes': 127, 'cubillo': 1000, 'marks': 128, 'sandrones': 129, 'leafy': 130, 'blanched': 131, 'social': 133, 'mac': 134, 'maintaining': 135, 'everything': 137, 'transition': 138, 'delciously': 139, 'claim': 140, 'flowers': 141, 'bananalike': 142, 'packing': 145, 'cherrylike': 146, 'perfectly': 147, 'complaints': 148, 'oozed': 151, 'oven': 150, 'relationship': 152, 'cote': 153, 'sherried': 154, 'mainly': 1002, 'raspingly': 155, '2000': 156, 'â': 157, '81': 158, 'struggle': 160, 'resited': 162, 'mellow': 163, 'perfumed': 164, 'frangrant': 165, 'primary': 166, 'premature': 26, 'embarrassing': 167, 'cofee': 168, 'rasins': 1258, 'sweetly': 169, 'vegetality': 170, 'overawed': 171, '66': 2410, 'banana': 172, 'amontilladolike': 788, 'acid': 30, 'improving': 173, 'fouryearolds': 174, 'scrapes': 175, 'oily': 176, 'smokey': 177, 'peak': 178, 'experiment': 179, '12': 180, 'purpose': 181, 'sophisticated': 182, 'eminently': 183, 'same': 184, 'seem': 186, 'pineapple': 187, 'pushing': 189, 'sorting': 192, 'belnd': 191, 'highttoned': 193, 'fishymetallic': 194, '83': 195, 'characterful': 196, 'discovered': 197, 'vecchia': 198, 'auxey': 199, 'friends': 200, 'genuine': 202, 'ive': 203, 'thing': 2241, 'overtones': 204, 'wellmade': 206, '61': 207, 'status': 208, 'rusticity': 209, 'pol': 210, 'life': 211, 'medium': 212, 'blows': 1011, 'breed': 213, 'melon': 214, 'labelling': 215, 'plumns': 216, 'funky': 217, 'talbot': 218, 'sterility': 219, 'years': 220, 'got': 221, 'waste': 1937, 'fantastically': 222, 'bodied': 223, 'charred': 224, 'uninteresting': 42, 'white': 225, 'heavily': 226, 'bigger': 227, 'zing': 2421, 'tire': 228, 'advance': 230, 'chance': 231, 'apricot': 232, 'dp': 234, 'purity': 235, 'success': 236, 'watch': 237, 'think': 238, 'krug': 1489, 'yeast': 239, 'recent': 240, 'sugar': 241, 'said': 242, 'overwrought': 243, 'cautious': 244, 'added': 245, 'plenty': 246, 'problems': 247, 'arresting': 248, 'nowadays': 249, 'drycleaning': 250, 'focused': 252, 'jumps': 1949, 'gentaz': 254, 'property': 256, 'weedy': 258, 'competition': 257, 'progress': 1018, 'confirmed': 259, 'component': 260, 'year': 261, 'attention': 262, 'texture': 1494, 'graceful': 541, 'fleshy': 264, 'illusion': 265, 'severe': 2426, 'decade': 266, 'meunier': 268, 'rivers': 269, 'typing': 270, 'veg': 271, 'luxurious': 272, 'happily': 273, 'gravner': 274, 'fruitdriven': 275, 'cuvee': 279, 'lurked': 1498, 'interpretation': 281, 'classic': 282, 'merit': 283, 'favourite': 284, 'ok': 285, 'amarone': 290, 'broad': 287, 'maybe': 288, 'resolved': 292, 'reduced': 544, 'tannins': 293, 'coarsetextured': 294, 'suggesting': 295, 'grapes': 296, 'extreme': 297, 'even': 298, 'abruptly': 299, 'obvious': 300, 'petrolly': 302, 'future': 360, 'liquor': 1954, 'exotic': 303, 'glass': 304, 'joy': 305, 'felt': 306, 'juicy': 307, 'me': 308, 'greater': 309, 'original': 310, 'credit': 311, 'remains': 312, 'botrytis': 313, 'scribbled': 1501, 'sensitive': 314, 'southern': 315, 'suggestions': 316, 'wound': 317, 'terroir': 2019, 'bolly': 318, 'least': 319, 'asian': 320, 'excite': 321, 'inyourface': 322, 'parker': 323, 'drinkable': 324, 'dolce': 325, 'massa': 326, 'medicinal': 327, 'et': 328, 'grass': 329, 'past': 330, 'through': 331, 'dls': 332, 'promoted': 333, 'spoils': 334, 'modernstyled': 335, 'overstated': 336, 'holds': 2269, 'younger': 337, 'bring': 338, 'exciting': 552, 'came': 339, 'fault': 341, 'toasty': 342, 'beetroot': 345, 'synthesis': 344, 'unpleasantly': 346, 'acidity': 347, 'rustic': 348, 'charcter': 349, '1978': 554, 'ogier': 1507, 'richer': 351, 'first': 352, 'shipping': 353, 'manage': 354, 'mothbally': 355, 'liquoricey': 356, 'come': 357, 'granny': 62, 'possibly': 358, 'carries': 1735, 'filhot': 362, 'gosset': 363, 'spanish': 364, 'larger': 365, 'ripeness': 366, 'grivot': 368, 'farmyardy': 370, 'perrieres': 371, 'bettertextured': 372, 'gamymineral': 373, 'underrated': 374, 'relatively': 375, '04': 1962, 'your': 376, 'caught': 378, 'resinous': 379, 'overlying': 380, 'takes': 1997, 'oilykeroseney': 381, 'certain': 382, 'decent': 383, 'carameltoffee': 384, 'buttery': 385, 'rotting': 1512, '1997': 386, 'vincafe': 387, 'division': 66, 'matches': 389, 'black': 67, 'solid': 390, 'tart': 391, 'start': 392, 'whether': 394, 'who': 396, 'miss': 397, 'early': 398, 'blow': 399, 'streak': 400, 'californian': 401, 'scraping': 403, 'cross': 404, 'biscuits': 405, 'thinner': 406, 'tuck': 407, 'pink': 410, 'lines': 409, 'super': 412, 'cashews': 413, 'retained': 414, 'suitable': 415, 'taken': 416, 'declined': 998, 'distinguished': 417, 'system': 418, 'stylish': 419, 'elegant': 420, 'shows': 421, 'blueberryraspberry': 422, 'stops': 423, 'flattering': 424, 'out': 425, 'mosel': 426, 'intistieti': 427, 'thick': 429, 'other': 430, 'barsac': 569, 'northern': 431, 'effect': 1939, 'christmas': 432, 'hole': 435, 'bisol': 436, 'defect': 1044, 'various': 437, 'initially': 438, 'ca': 439, 'bold': 440, 'somehow': 441, 'softness': 442, 'allround': 443, 'residual': 444, 'weakening': 445, 'ozzie': 446, 'former': 447, 'site': 448, 'memory': 449, 'highly': 451, 'view': 453, 'itself': 454, 'fades': 455, 'firmness': 456, 'clearly': 457, 'noticably': 458, 'imagine': 459, 'theme': 460, 'stunning': 461, 'cloudy': 462, 'colourless': 463, 'brought': 78, 'stony': 465, 'va': 466, 'cleans': 467, 'understated': 80, 'tarry': 468, 'usual': 469, 'fills': 470, 'spinach': 471, 'startling': 472, 'having': 1048, 'isnt': 84, 'dimension': 473, 'sucessful': 474, 'explodes': 476, 'unfinished': 477, 'impressed': 2458, 'phase': 478, 'reverse': 479, 'meant': 1919, 'overpriced': 481, 'study': 89, 'need': 482, 'wax': 483, 'mature': 484, 'warmed': 486, 'tone': 487, 'tuned': 489, 'benefit': 490, 'things': 491, 'variety': 492, 'hand': 493, 'obscuring': 494, 'deepcoloured': 496, 'producers': 497, 'friend': 2463, 'remeniscent': 498, 'terroirdriven': 1527, 'becoming': 2464, 'lemony': 499, 'cold': 500, 'keeping': 503, 'pouilly': 504, 'fragranced': 505, 'superficially': 507, 'their': 508, 'lets': 509, 'bigscaled': 510, 'medicinallyedged': 512, 'fast': 513, 'fruitcake': 514, 'tokay': 515, 'tang': 517, 'gums': 518, 'timeless': 2468, 'weighty': 519, 'muscat': 520, 'dishes': 521, 'air': 522, 'excess': 523, 'undertones': 524, 'poor': 525, 'disjoint': 526, 'nuts': 527, 'definitely': 528, 'newoak': 529, 'frizzante': 530, 'oxiidative': 532, 'gummy': 533, 'overold': 534, 'unremarkable': 535, 'easylight': 536, 'gruaud': 537, 'harking': 538, 'underbrush': 585, 'finds': 539, 'route': 540, 'go': 542, 'grownups': 545, 'slavours': 1538, '8': 548, 'look': 547, 'shout': 549, 'settle': 550, 'decanter': 551, 'often': 553, 'lightbodied': 102, 'auction': 555, 'getting': 1064, 'sells': 556, 'impression': 557, 'mixture': 558, 'wants': 559, '4': 560, 'unsatifyingly': 561, 'assistants': 562, 'disease': 563, 'length': 564, 'contact': 565, 'comparsion': 566, 'quintaine': 567, 'loads': 568, 'here': 570, 'attribute': 571, 'hardness': 590, 'thoroughly': 572, 'large': 573, 'birthday': 574, 'knowing': 1917, 'luscious': 107, 'already': 575, 'ago': 576, 'pale': 577, 'blush': 578, 'starting': 579, 'believe': 580, 'emerged': 581, 'mainstream': 582, 'chardonnay': 583, 'chewy': 584, 'chocolatey': 586, 'deal': 587, 'concentrated': 1108, 'tautness': 588, 'upstage': 589, 'authentic': 591, 'unfocussed': 110, 'notes': 2001, 'purely': 593, 'rhyming': 594, 'ratio': 595, 'timescale': 596, 'porty': 597, 'undescribable': 598, 'undemanding': 599, 'varying': 600, 'free': 601, 'following': 603, 'expressive': 604, 'suggestive': 2794, 'opinion': 1546, 'confusion': 605, 'chapelle': 2482, 'impressionistic': 606, 'aromas': 607, 'chianti': 608, 'depart': 609, 'tend': 2007, 'iodine': 610, 'textbook': 611, 'excellent': 612, 'superb': 613, 'twisty': 614, 'conversation': 615, 'cases': 117, 'my': 616, 'decant': 617, 'longhaul': 618, 'volatility': 619, 'voluptuous': 1549, 'next': 622, 'muscatel': 623, 'rthe': 624, 'order': 625, 'onion': 1553, 'biscuity': 1072, 'cellaring': 626, 'fatness': 627, 'tremendous': 628, 'splendid': 629, 'higher': 630, 'underrating': 2011, 'icecream': 632, 'rieussec': 633, 'thought': 634, 'curious': 635, 'result': 636, 'couldnt': 638, 'darker': 639, 'otherwise': 640, 'â\\x91typical': 641, 'illuminate': 642, 'unnoticeable': 643, 'anonymous': 644, 'remarked': 2018, 'hearty': 645, 'tongue': 646, 'maceration': 647, 'sa': 648, 'exceptional': 649, 'fortunately': 650, 'chassagne': 651, 'winery': 123, 'preferred': 653, 'searing': 658, 'evenings': 654, 'beers': 655, 'raveneau': 659, 'ought': 661, 'although': 660, 'exception': 662, 'served': 663, 'aged': 664, 'caillerets': 665, 'newwave': 666, 'oomph': 667, 'extra': 668, 'mesnil': 2782, 'times': 669, 'strength': 670, 'dilute': 671, 'coarse': 1081, 'iselegan': 672, 'consequently': 673, 'left': 674, 'remember': 675, 'grips': 676, 'yearold': 677, 'winemaking': 678, 'generally': 680, 'gentle': 681, 'unforthcoming': 683, 'period': 684, 'apple': 685, 'sundays': 1705, 'unpalatable': 687, 'hasnt': 688, 'spot': 689, 'beautiful': 132, 'sic': 690, 'ambivalent': 692, 'advertised': 693, 'oldwine': 694, 'partly': 695, 'persistant': 696, 'breathing': 697, 'likes': 136, 'chassagnelike': 698, 'drying': 699, 'soft': 2819, 'literally': 700, 'id': 701, 'further': 702, 'doughy': 703, 'beside': 704, 'finely': 705, 'assessable': 706, 'stretch': 707, 'cos': 708, 'stoppered': 710, 'unflawed': 713, 'against': 712, 'rioja': 715, 'outstanding': 716, 'australian': 717, 'remote': 718, 'finished': 719, 'does': 720, 'lasting': 724, 'spirity': 144, 'overblown': 725, 'jsut': 726, 'bollinger': 1572, 'held': 728, 'bacon': 620, 'may': 621, 'maturity': 2500, 'fruits': 730, 'rougher': 731, 'presence': 732, 'barrique': 733, 'any': 734, 'intriguing': 735, 'raisiny': 736, 'apparently': 737, 'solera': 738, 'toffee': 739, 'especially': 740, 'minutes': 743, '2004': 742, 'purchased': 745, 'forward': 746, 'pruney': 747, 'vibrant': 748, 'potentially': 749, 'pools': 750, 'limey': 751, 'excited': 149, 'suspicion': 752, 'serious': 753, 'flattered': 754, 'crackers': 2503, 'caramely': 756, 'overall': 757, 'uninspiring': 758, 'chicken': 760, 'wellbalanced': 761, 'opposed': 762, 'overly': 763, 'impressive': 766, 'because': 1574, 'notice': 768, 'package': 769, 'racks': 770, 'until': 772, 'garden': 2505, 'emerges': 773, 'unrated': 775, 'cabernet': 776, 'chateauneuf': 777, 'pinots': 631, 'where': 1257, 'delicious': 778, 'deliciously': 779, 'ramonets': 781, 'aux': 782, 'toasted': 1978, 'hazelnut': 783, 'dribbling': 784, 'shortness': 2398, 'h': 785, 'desert': 2036, 'nicelytextured': 1427, 'trimbach': 786, 'body': 787, 'dosage': 789, 'crack': 790, 'earlier': 791, 'different': 792, 'stock': 1580, 'else': 793, 'overlay': 794, 'opening': 159, 'autolytic': 796, 'atlantic': 797, 'tiring': 799, 'properly': 800, 'sign': 801, 'dusty': 802, 'travel': 803, 'bottled': 804, 'vegetal': 805, 'see': 637, 'magnums': 807, '100': 1478, 'shorter': 2041, 'self': 810, 'lowacid': 1105, 'term': 811, 'crunchy': 1582, 'oldish': 812, 'talento': 814, 'loved': 815, 'cleared': 816, 'kabinet': 817, 'sunny': 818, 'characteristically': 819, 'convince': 820, 'hopelessly': 821, 'achieve': 822, 'ja': 823, 'pauillac': 824, 'chestnut': 825, 'oxidised': 827, 'lightweight': 828, 'chassane': 829, 'ul': 830, 'blanc': 832, 'cassisy': 833, 'minty': 834, 'quiet': 835, 'viscous': 836, 'luxury': 2860, 'minus': 837, 'never': 838, 'acidic': 2045, 'overgenerous': 839, 'excessively': 840, 'poxy': 841, 'everyones': 842, 'temperature': 843, 'web': 844, 'nearly': 1588, 'marzipan': 845, 'interestingly': 846, 'sink': 847, 'develops': 289, 'austrere': 849, 'individual': 851, 'lives': 852, 'delineated': 853, 'feminine': 854, 'holiday': 855, 'barbera': 2557, 'reasobale': 856, 'wears': 857, 'volnay': 859, 'flabby': 860, 'hurry': 861, 'hay': 862, 'disappointing': 863, 'satisfying': 864, 'salty': 866, 'slabs': 867, 'grapefruit': 869, 'aspects': 871, 'poured': 872, 'tried': 874, 'tannic': 875, 'also': 1118, 'month': 876, 'most': 877, 'taint': 2547, 'hints': 878, 'seemed': 879, 'champagne': 880, 'crystals': 882, 'chablis': 883, 'meal': 1594, 'arent': 885, 'cambridge': 886, 'get': 887, 'walnut': 888, 'barolos': 889, 'absolute': 890, 'mouse': 891, 'zind': 892, 'champagnes': 893, 'spatlese': 592, 'ratings': 894, 'pleasantly': 895, 'ordinary': 896, 'unbalanced': 780, 'despite': 898, 'qute': 899, 'direction': 900, 'delayed': 901, 'hightonedness': 902, 'toward': 903, 'market': 904, 'nettlelike': 905, 'foursquare': 2529, 'effects': 906, 'berries': 908, 'mushroomy': 909, 'bitterness': 910, 'give': 911, '10': 912, 'flawed': 913, 'coffee': 915, '89': 917, 'leather': 918, 'oloroso': 920, 'enigmatic': 921, 'glimpses': 922, 'type': 923, 'mostly': 924, 'provence': 925, 'cedary': 926, 'surprised': 2404, 'hopefully': 652, 'textured': 657, '2005s': 927, 'correctly': 656, 'oscillate': 928, 'falls': 929, 'brown': 930, 'oak': 2565, 'woodiness': 932, 'larose': 933, 'longterm': 934, 'fourrier': 937, 'within': 936, 'tight': 938, 'producing': 939, 'notable': 941, 'are': 1078, 'amount': 723, 'greentinged': 1730, 'shoepolish': 942, 'relativel': 943, 'bottomshoulder': 944, 'maderised': 945, 'ancient': 946, '1990s': 947, 'unfashionable': 948, 'enigma': 949, 'previous': 950, 'inky': 951, 'shouting': 952, 'word': 953, 'ancientlooking': 954, 'greenness': 955, 'special': 956, 'expecting': 957, 'quickly': 958, 'outgoing': 960, 'france': 961, 'heavy': 962, 'premier': 963, 'vaish': 964, 'semillon': 965, 'digestible': 967, 'stage': 968, 'fullbodied': 969, 'passion': 970, 'rosehips': 971, 'lighttomedium': 972, 'reductivesulphury': 973, 'characteristic': 974, 'delight': 975, 'cask': 976, 'changes': 978, 'oldstyle': 1605, 'without': 979, 'evening': 980, 'working': 981, 'parmesan': 982, 'part': 984, 'since': 985, 'fino': 986, 'days': 987, 'passed': 1609, 'colheitas': 988, 'contributor': 989, 'coarseness': 990, 'promising': 991, 'returning': 188, 'another': 993, 'merits': 994, 'blend': 995, 'mushroomyness': 996, 'framework': 997, 'today': 190, 'wrote': 999, 'attend': 2066, 'waxy': 1001, 'development': 1955, 'aiming': 1003, 'exactly': 1004, 'bordeaux': 1005, 'shown': 1685, 'present': 2546, 'close': 1006, 'plummy': 1007, 'house': 1008, 'nosign': 1009, 'concentrating': 1010, 'violets': 2070, 'became': 1012, 'written': 1013, 'sulphury': 1014, 'riveting': 2072, 'fail': 1015, 'strawberrycherry': 1016, 'chambolle': 1017, 'simple': 1019, 'notably': 1020, 'sweety': 1021, 'coordinated': 1022, 'stronger': 870, 'classicstyle': 1023, 'faded': 1024, 'reserved': 1025, 'doubt': 1026, 'drink': 1027, 'silkyily': 1028, 'flabbier': 1029, 'nutty': 1030, 'way': 1031, 'italianate': 1032, 'noirs': 1035, 'planeta': 1036, 'sort': 679, 'curiously': 1425, 'advanced': 1037, 'intensely': 1038, 'smoke': 1039, 'nondescript': 1040, 'gambellara': 1041, 'prosecco': 1042, 'cellar': 1043, 'softdrink': 1045, 'hardly': 1046, 'plausible': 2367, 'combionation': 2555, 'greatest': 1047, 'approaching': 682, 'convinced': 1049, 'carefully': 1622, 'appears': 1050, 'aspect': 1051, 'plum': 1052, 'oddity': 1053, 'difficult': 1054, 'waitrose': 1055, 'unforced': 1056, 'matters': 1057, 'excitment': 1058, 'valvonas': 1060, 'aperitif': 1061, 'ripe': 1062, 'grapey': 1063, 'sweeter': 1065, 'pichon': 1066, 'fully': 1149, 'peachkernels': 2078, 'perignon': 1067, 'musar': 1068, 'mds': 2560, 'decided': 1069, 'sea': 201, 'fair': 1070, 'lovable': 1073, 'expects': 1074, 'down': 1075, 'mineral': 1076, 'high': 1077, 'roundedness': 1079, 'refreshing': 2566, 'beetrooty': 1080, 'begin': 1082, 'tea': 1084, 'leaving': 1086, 'piquant': 1087, 'oxidation': 1085, 'gluey': 1088, 'positive': 1089, 'business': 1090, 'cedaryness': 686, 'coarser': 1091, 'make': 2081, 'then': 1092, 'well': 1093, 'tired': 1094, 'estate': 1095, 'reports': 1096, 'relegated': 1097, 'truly': 1098, 'lamaione': 1099, 'winemaker': 2826, 'acquaintance': 1100, 'pencil': 1101, 'substandard': 1102, 'spent': 1103, '1dimensional': 1104, 'rave': 1106, 'fluid': 1107, 'redolent': 1110, 'somebody': 1116, 'wont': 1113, 'sugary': 1114, 'live': 1117, 'fwd': 1154, 'examples': 369, 'happen': 1119, 'reservations': 1120, 'lean': 2302, 'bizarre': 1121, 'yeastiness': 1122, 'variable': 1123, 'gutless': 1124, 'makings': 280, 'food': 1125, 'combination': 1936, 'firmly': 1126, 'butter': 1128, 'effortlessly': 2574, 'own': 1129, 'whole': 691, 'currently': 1130, 'provided': 1131, 'centotre': 1132, 'oaky': 1133, 'botrytisy': 1134, 'capsule': 1135, 'avoiding': 1136, 'trepidation': 1137, 'suspect': 1138, 'generating': 1139, 'deutz': 1140, 'kept': 2092, 'oozing': 2215, 'board': 1142, 'iron': 1143, 'acacia': 1144, 'resolves': 1145, 'garnacha': 1146, 'seven': 1147, 'anywhere': 1148, 'seepage': 1150, 'scoff': 1151, 'highest': 1152, 'cake': 1153, 'flat': 1155, 'pud': 1156, 'signs': 1157, 'chassagnes': 1158, 'till': 1159, 'quality': 1163, 'burgundian': 2096, 'after': 1160, 'made': 1161, 'base': 1633, 'african': 1162, 'centre': 1164, 'christmascake': 1165, 'syndrome': 1166, 'resolve': 2581, 'softly': 1168, 'presumably': 2756, 'yes': 1169, 'though': 1170, 'disgorgement': 1171, 'bordeauxstyle': 1173, 'best': 1174, 'depth': 1175, 'confected': 1921, 'forgotten': 1176, 'austere': 1177, 'bodyboarding': 1178, 'traditional': 1179, 'inferior': 1181, 'disjointed': 1182, 'followed': 1183, 'moving': 1184, 'shouldnt': 1185, 'nightmare': 1186, 'suppose': 1187, 'domaine': 1188, 'range': 1189, 'corner': 1190, 'surprising': 1172, 'going': 1191, 'orange': 1192, 'occasional': 1193, 'dramatic': 1194, 'afraid': 1196, 'grahams': 2100, 'stars': 1198, 'fan': 1200, 'specially': 1201, 'proper': 1202, 'edges': 1204, 'waiting': 2103, 'estery': 1205, 'marmalade': 1208, 'disappointed': 1207, 'nectarinekernel': 1209, 'summer': 1210, 'initial': 1211, 'mint': 2105, 'drinkability': 1212, 'macon': 1213, 'pay': 1214, 'poised': 2591, 'name': 1215, 'koonunga': 1217, 'polished': 1219, 'clarity': 1220, 'suffered': 1221, 'fist': 709, 'minerals': 1222, 'begining': 1180, 'suffering': 1223, 'extent': 5, 'tough': 452, 'medical': 1224, 'cakey': 1225, 'absolutely': 1226, 'morning': 1227, 'lihtly': 1231, 'according': 1229, 'chaumes': 1234, 'hint': 711, 'poise': 1235, 'do': 2597, 'concerned': 1236, 'before': 1237, 'indication': 1239, '11': 1240, 'sent': 2117, 'italy': 1241, 'end': 1242, 'needs': 2601, 'champaux': 1243, 'puligny': 1244, 'appetizing': 1245, 'rowdy': 1246, 'similarly': 1247, 'indifferent': 1248, 'coloured': 2602, 'stroganoff': 1249, 'south': 2119, 'haut': 1650, 'pm': 1250, 'drag': 2341, 'mushroom': 1251, 'grenachey': 1252, 'minor': 1253, 'aniseed': 1254, 'real': 1255, 'reveals': 1261, 'herby': 1259, 'combine': 1262, 'done': 2570, 'tjis': 1263, 'glorious': 1264, 'unripe': 1265, 'healthy': 1268, 'might': 1267, 'characteristics': 1270, 'grander': 1272, 'prematurely': 1273, 'pricey': 233, 'treacle': 1971, 'crystalline': 1274, 'niepoort': 1275, 'attractive': 1276, 'main': 1277, 'barrel': 1278, 'structure': 1280, 'loses': 1281, 'moins': 1284, 'clarety': 1283, 'stunk': 1286, 'turn': 1287, 'underpinning': 722, 'venoge': 1288, 'scents': 1289, 'myself': 1654, 'tondonia': 1290, 'apparent': 1291, 'pleasingly': 2610, 'theres': 1293, 'soave': 2825, 'ageworthy': 1294, 'evolution': 1656, 'depths': 1296, 'cranberry': 1297, 'appealing': 1298, 'fore': 1300, 'oaked': 1301, 'ongoogle': 1302, 'awful': 1303, 'overcharred': 1304, 'thatplague': 1305, 'feeling': 1127, 'fruitcakey': 1306, 'lynchbages': 1307, 'keroseney': 714, 'grippier': 263, 'fargone': 1309, 'seal': 1310, '91': 1311, 'alleviate': 1312, 'opened': 1313, 'oxford': 1033, 'overnight': 1314, 'consortium': 1315, 'herbs': 1316, 'mouthfilling': 1317, 'last': 1321, 'aromatic': 1319, 'halkin': 1322, 'pronounced': 1323, 'replacement': 1324, 'decades': 1325, 'unexciting': 1661, 'carb': 33, 'lasts': 1327, 'night': 1328, 'lighter': 1329, 'abandoned': 1331, 'prefer': 1332, 'whitepepper': 1333, 'rounded': 2737, 'mentholy': 1665, 'noticable': 1337, 'actually': 1338, 'supplied': 1339, 'tendency': 1340, 'chileans': 1341, 'front': 1342, 'unoaked': 1343, 'help': 1344, 'decanted': 1345, 'elegance': 1346, 'allowed': 1195, 'afterwards': 727, 'foreboding': 1347, 'trademark': 1348, 'unappetising': 1349, 'heard': 1352, 'road': 1353, 'musty': 1354, 'blackberry': 1355, 'informative': 2235, 'spectacularly': 1356, 'modern': 1357, 'overarching': 1359, 'upanddown': 1197, 'inbetween': 1360, 'chilli': 1363, 'flavoured': 1362, 'money': 1669, 'ideal': 255, 'fear': 1365, 'smokier': 1668, 'backbone': 1366, 'cigarbox': 1368, 'raspberry': 1369, 'approximate': 1370, 'insubstantial': 2127, 'starts': 1371, 'straightforward': 1372, 'reviews': 1373, 'love': 1374, 'frightening': 1375, 'underwhelming': 1377, 'possess': 1378, 'camphor': 1379, 'flowery': 1034, 'gather': 229, 'breezes': 1380, 'vigne': 1381, 'htis': 729, 'appley': 1383, 'sees': 291, 'damage': 1384, 'gone': 1385, 'grand': 1386, 'pinotlike': 1387, 'lime': 1388, 'power': 1389, 'march': 1390, 'element': 1391, 'influence': 1392, 'surprisingly': 1394, 'argentina': 1395, 'nibbles': 1675, 'sternness': 1397, 'cork': 251, 'everywhere': 1398, 'prematureoxidation': 1399, 'losing': 1401, 'dl': 1402, 'dumb': 1403, 'ten': 1548, 'asset': 1404, 'eyeing': 2628, 'oversweet': 1405, 'fundamentally': 1203, 'subdued': 1406, 'sunday': 1407, 'conterno': 2562, 'maturing': 1409, 'passing': 1410, 'related': 1411, 'evidence': 2139, 'amontillado': 1413, 'barnyard': 1414, 'straw': 1415, 'steelyness': 2630, 'etc': 1416, 'tenner': 1417, 'gets': 2141, 'crystaline': 1418, 'beat': 1419, 'creamy': 2306, 'chatracter': 1420, 'cinnamon': 1421, 'dissolved': 1422, 'italian': 546, 'problem': 1423, 'mind': 1424, 'broader': 1429, 'obviously': 1428, 'conservative': 1430, 'brighter': 1432, 'century': 1434, 'easily': 1435, 'straight': 1436, 'maconwithbubbles': 1206, 'almost': 1437, 'bitter': 1438, 'remembered': 1439, 'variation': 1440, 'all': 1441, 'cedar': 1443, 'concentration': 1444, 'plums': 1445, 'rash': 1446, 'meaty': 1447, 'sips': 1448, 'nz': 1449, 'score': 1450, 'pineappley': 1451, 'dies': 1452, 'edge': 1453, 'whiff': 1454, 'rush': 1455, 'sicky': 1456, 'should': 1457, 'brief': 741, 'grippy': 1458, 'gran': 1615, 'ł20': 1459, 'almondy': 1460, 'flavour': 1461, 'licking': 744, 'moderately': 1462, 'silex': 267, 'mmore': 1463, 'varied': 1464, 'backdrink': 1465, '2003': 1466, 'downhill': 1467, 'oh': 1468, 'dolcetto': 1469, 'value': 1471, 'granular': 1472, 'feeding': 1473, 'austrian': 1474, 'lees': 1475, 'while': 1476, 'mediumweight': 1477, 'hope': 1479, 'ambitious': 1480, '94': 1481, 'halves': 1482, 'beneficial': 1483, 'full': 1484, 'freshness': 1486, 'weight': 1487, 'cream': 1491, 'sip': 1490, 'negatively': 1492, 'rasping': 1493, 'turned': 1495, 'seriously': 1496, 'accompanying': 1497, 'back': 1499, 'producer': 1500, 'profound': 1502, 'methode': 1503, 'backlabel': 1504, 'toffeed': 2644, '24': 1505, 'judged': 1506, 'generous': 1508, 'sweetness': 1509, 'lafarge': 278, 'rieslingy': 1510, 'decide': 1511, 'cherries': 276, 'le': 1216, 'general': 1513, 'enjoyably': 1514, 'taxi': 1515, 'gold': 1516, 'rieslong': 1517, 'went': 1518, 'oddbins': 1519, 'colheita': 1218, 'yquem': 1520, 'nothing': 1521, 'apart': 1522, 'dont': 1523, 'dissipates': 1524, 'stand': 1525, '30': 1964, 'pears': 1526, 'entrance': 1529, 'appearing': 1528, 'skin': 1530, 'job': 1531, 'vulgar': 1532, 'fading': 1533, 'benefits': 1534, 'latepalate': 1535, 'accompaniment': 1536, 'stop': 1537, 'filling': 1539, 'toned': 1540, 'leathery': 1541, 'decadence': 2650, 'vinous': 1542, 'eldeflower': 1543, 'truffle': 2654, 'dreaded': 1544, 'rapidly': 1545, 'magnum': 1547, 'rounder': 1552, 'guy': 1550, 'somewhere': 1551, 'kind': 1554, 'avoid': 1555, 'charcterful': 1556, 'potential': 1557, 'individuality': 1558, 'beaujolais': 1559, 'prestige': 1560, '05s': 1561, 'extracted': 1562, 'weediness': 1563, 'restaurant': 1564, 'disappointments': 286, 'maison': 721, 'purchase': 1565, 'ypon': 1566, 'upstaged': 1567, 'deceptively': 1568, 'nahm': 1569, 'particular': 1570, 'kindly': 1571, 'amazing': 1694, 'grassy': 1693, 'huge': 1573, 'finer': 1575, 'strawlike': 1576, 'spicy': 1577, 'mine': 1578, 'arrived': 1579, 'common': 1581, 'kernel': 1584, 'you': 759, 'samples': 1585, 'ceparello': 1586, 'decadent': 1587, 'leaps': 1589, 'miles': 1590, 'helpfully': 1591, 'blackberries': 1592, 'outside': 1228, 'character': 1593, 'hinting': 1230, 'vv': 1595, 'fineness': 1596, 'astringent': 1232, 'distinction': 1597, 'byo': 1700, 'msr': 1598, 'when': 1599, 'fraiche': 1600, 'has': 1601, 'perfect': 1602, 'caramelly': 1603, 'sour': 1604, 'mahogany': 1606, 'fragrant': 1607, 'blackcherry': 1608, 'coughsweet': 1610, 'by': 1611, 'three': 1612, 'cr': 1613, 'half': 1614, 'tarted': 1617, 'lemon': 1618, 'follows': 1619, 'later': 765, 'shifted': 1620, 'use': 1621, 'v': 1623, 'expense': 1624, 'pack': 1625, 'enjoyable': 767, 'brioche': 1626, 'quick': 1627, 'open': 1628, 'rp': 301, 'lacking': 1629, 'coming': 1630, 'fairly': 2177, 'remotely': 1631, 'bread': 1238, 'hadnt': 2797, 'typicity': 1632, 'dodgy': 2666, 'passito': 1636, 'sulphur': 1634, 'rugates': 1635, 'binend': 1637, 'rheingau': 1638, '5': 1639, 'upcurve': 1640, 'forgiving': 1641, '65': 1642, 'bottles': 1643, 'tears': 1644, 'day': 771, 'precision': 1645, 'sensory': 1646, 'standard': 1647, 'integrated': 1648, 'animal': 1649, 'tunina': 1651, 'middleweight': 1652, 'co2': 1653, 'how': 2671, 'doing': 774, 'eccentric': 1655, 'produced': 1657, 'penetrating': 1658, '15': 1659, 'balanced': 1660, 'deeply': 1662, 'farmyard': 1663, 'combe': 1664, 'rully': 2721, 'flavours': 2182, 'marred': 1666, 'youthful': 1667, 'loose': 1710, 'sedimenty': 1670, 'conventional': 1671, 'substantially': 1672, 'host': 1673, 'stuff': 1676, 'moment': 1677, 'brune': 1678, 'yuk': 1679, 'away': 1680, 'doubts': 1681, 'velvety': 1682, 'corked': 2450, 'there': 1714, 'vineyards': 1683, 'would': 1684, 'fragrantly': 1686, 'expectations': 1687, 'modest': 1688, 'showy': 1689, 'cataloguing': 1690, 'ways': 1691, 'debate': 1692, 'melange': 1695, 'gewurz': 1696, 'interesting': 1697, 'price': 1698, 'level': 1699, 'mistage': 1702, 'fascinating': 2681, 'off': 2190, 'pretty': 1703, 'as': 1704, 'tending': 1706, 'grigio': 1719, 'seeping': 1707, 'pomerol': 1708, 'profusion': 1709, 'sourness': 1712, 'sad': 1711, 'empty': 1713, 'interest': 1715, 'intellectual': 1716, 'living': 1717, 'grace': 1718, 'lack': 1720, 'hollower': 1721, 'underlay': 1722, 'know': 1723, 'however': 1725, 'july': 1727, 'prawns': 1728, 'wachau': 1729, 'twentyyearold': 1734, 'zoo': 1731, 'synthetic': 1732, 'shiraz': 1733, 'whites': 1736, 'roses': 1726, 'flight': 1737, 'writing': 1738, 'critical': 1109, 'small': 1739, 'becomes': 1740, 'austerely': 1742, 'moet': 1743, 'vinegar': 1744, '97': 1745, 'suggests': 1746, 'jadot': 1747, 'complex': 1748, 'included': 2689, 'nuttyness': 1167, 'blanced': 1749, 'finishes': 1750, 'canbe': 2196, 'completely': 1751, 'de': 1752, 'gpl': 1753, 'tangerine': 1754, 'abandons': 1756, 'jaboulet': 1485, 'event': 1757, 'las': 1758, 'typically': 1761, 'vintages': 1760, 'style': 1762, 'freezer': 1763, 'manages': 1764, 'jacques': 1765, 'sell': 1766, 'basis': 1767, 'noted': 1768, 'judgement': 1769, 'guessed': 1771, 'beautifully': 1772, 'moscato': 1773, 'im': 1774, 'tar': 1775, 'elegany': 1777, 'welcome': 1778, 'french': 2217, 'showing': 1780, 'altas': 1141, 'decently': 1781, 'trying': 1782, 'idiosynchratic': 1783, 'gamy': 1784, 'demisec': 1870, 'found': 1786, 'ultimately': 1787, 'bags': 1788, 'coughsweets': 2203, 'trophy': 1789, 'broadbent': 1790, 'sterile': 1791, 'gingery': 1792, 'liquorice': 1256, 'highoned': 1793, 'factors': 1794, 'port': 1795, 'characters': 1796, 'wondered': 2812, 'tobaccoleaf': 1741, 'flatter': 1797, 'softy': 2766, 'ozzielike': 1798, 'reminder': 1260, 'issan': 1799, 'mushrooms': 1800, 'approaches': 1802, 'persistence': 1803, 'merlotstyle': 1804, 'â\\x91modern': 1805, 'gc': 1806, 'rotie': 1807, 'grape': 1808, 'ravishingly': 1809, 'sound': 1810, 'shade': 1811, 'mellowed': 1812, 'expands': 253, 'grudging': 1813, '2002': 1815, 'bass': 1816, 'maderisation': 1817, 'taking': 1818, 'cheeses': 1819, 'langhe': 1821, 'wonder': 1266, 'tropicaledged': 1822, 'am': 1823, 'yet': 1825, 'leaves': 1826, 'work': 1827, 'gutsy': 1828, 'paolo': 1233, 'admire': 1269, 'pick': 1829, 'pencilshaving': 1830, 'cellars': 1831, 'dissipated': 795, 'these': 1833, 'strawberry': 1834, 'persistent': 1836, 'rate': 1838, 'vegetarians': 1839, 'average': 1840, 'easygoing': 1843, 'compared': 1844, 'drank': 1845, 'sandrone': 1846, 'slate': 798, 'marmaladey': 1848, 'bone': 1849, 'rating': 2704, 'shapliness': 2800, 'extravagantly': 1850, 'latter': 1851, 'barriques': 1852, 'they': 1853, 'particularly': 2705, 'bringing': 1854, 'chunky': 1855, 'goes': 1856, 'heavytextured': 1112, 'diffuse': 1858, 'weightiness': 1859, 'gracefully': 2749, 'ungainly': 1860, 'fill': 1861, 'flamboyant': 1862, 'cover': 1863, 'recall': 1864, 'wood': 1865, 'classy': 1866, 'commercial': 1867, 'chatting': 1868, 'apples': 1869, 'place': 1871, 'garlic': 1873, 'established': 1874, 'rhonelike': 340, '10th': 2711, 'filing': 1875, 'overt': 1880, 'consider': 1877, 'grownup': 1878, 'once': 1879, 'picquant': 1881, 'tastes': 1882, 'standing': 1755, 'danger': 1883, 'couple': 1282, 'anything': 1884, 'situations': 2218, 'improve': 1886, 'hot': 1887, 'famous': 1889, 'second': 1890, 'buy': 1891, 'manzanilla': 602, 'raw': 1285, 'idea': 806, 'international': 1892, 'twist': 1893, 'firm': 1895, '90': 809, 'tobys': 1896, 'meursuault': 343, 'plague': 1899, 'emilion': 1901, 'cherry': 1902, 'vineyard': 1903, 'packed': 1904, 'riserva': 1905, 'nevertheless': 1906, 'scented': 185, 'cotesdurhone': 1907, 'definition': 1908, 'sangiovese': 1913, 'show': 1910, 'perrin': 1911, 'worth': 1914, 'superexciting': 1915, 'tempier': 1916, 'makes': 1918, 'twothird': 1920, 'soften': 813, 'rousanne': 1922, 'alot': 1923, 'basic': 1924, 'nine': 350, 'put': 1759, 'sexy': 1925, 'draw': 1292, 'nonburgundian': 1926, 'ages': 1927, 'up': 1928, 'mousse': 1929, 'star': 1930, 'class': 1931, 'nature': 2226, 'volatile': 1932, 'awkwardness': 1933, 'thanks': 1934, 'alcohol': 1935, 'producerstyle': 1938, 'dense': 1941, 'gorgeously': 1942, 'winey': 1940, 'honeyed': 1943, 'stewed': 1944, 'between': 1945, 'vibrancy': 1946, 'terms': 1947, 'including': 1948, 'edged': 1950, 'violetfragranced': 1951, 'overwhelmed': 1952, 'breaking': 1953, 'swirl': 2228, 'secondary': 1956, 'honied': 1957, 'lots': 1958, 'colour': 1959, 'unfair': 531, 'hit': 1770, '8990': 1960, 'irony': 1961, 'dj': 1295, 'doubtless': 2230, 'accounts': 1963, 'rose': 1965, 'influenced': 1966, 'guess': 1967, 'say': 1968, 'mixed': 361, 'spicey': 1969, 'unozzie': 1970, 'did': 826, 'drier': 1972, 'peppery': 1973, 'shaped': 1974, 'regarded': 1976, '1995': 1977, 'spice': 1979, 'autolysis': 2774, 'beaucastel': 1980, 'juiciness': 1981, 'rayas': 1982, 'idlike': 1983, 'allowing': 2835, 'glasses': 1984, 'blancs': 831, 'midweek': 1985, 'ethereal': 1299, 'oozes': 1986, 'verging': 1987, 'joke': 1988, 'claret': 1989, 'riper': 1990, 'surely': 1991, 'turkish': 1992, 'lower': 1993, 'feelings': 1995, 'young': 1996, 'frothy': 1998, 'exhhuasted': 1999, 'swiss': 2000, 'souuthernfrench': 2002, 'nervy': 2004, 'considering': 2005, 'respectable': 2006, 'mickey': 2008, 'face': 2009, 'throat': 2010, 'unusually': 1776, 'occasionally': 2013, 'constantly': 2015, 'coincidence': 2016, 'fish': 2017, 'jobard': 2021, 'sage': 2022, 'pleasing': 2023, 'greenpea': 2727, 'big': 2024, 'unless': 2025, 'damp': 2026, 'want': 367, 'sherbert': 2027, 'such': 1308, 'trick': 2028, 'unknit': 2029, 'cough': 2030, 'edinburgh': 2031, 'cause': 2032, 'midpalate': 1111, 'win': 2678, 'each': 2033, 'attributed': 2034, 'fact': 2035, 'area': 2037, 'finest': 2038, 'gamay': 2039, 'appetising': 2040, '93': 2042, 'thawed': 2043, 'spain': 2044, 'naughtily': 2046, 'weak': 2047, 'reserve': 2048, 'refined': 2049, 'rosescented': 2050, 'alive': 2051, 'launois': 2052, 'attack': 2053, 'tobacco': 2054, 'youth': 2739, 'says': 2055, 'smoky': 1785, 'creaminess': 2056, 'rawness': 2057, 'tightly': 2058, 'richly': 2059, 'attenuated': 2060, 'warmvintage': 2061, 'grenachebased': 2062, 'opens': 2063, 'worldy': 2064, 'passionate': 2065, 'expected': 2067, 'shorterterm': 2068, 'fresher': 2069, 'summers': 2071, 'tropical': 2073, 'iwc': 2074, 'noise': 2075, 'lanolin': 1779, 'reds': 2076, 'sweet': 2077, 'peaches': 2079, 'burgundy': 2080, 'eveloved': 2082, 'noticeable': 2083, 'dirtinessstalkiness': 2084, 'source': 2736, '96s': 2085, 'domain': 2086, 'vanilla': 2087, 'storage': 2088, 'huet': 377, 'thousand': 2089, 'rollers': 2090, 'beyondfruit': 2091, 'mouvedre': 277, 'classically': 2093, 'nv': 2094, 'didnt': 2738, 'teanose': 2095, 'used': 848, 'ravishing': 2097, 'could': 2098, 'noticed': 2099, 'brut': 2101, '82': 2102, 'must': 2104, 'peach': 2109, 'probalbly': 2106, '2001': 2107, 'brilliant': 2108, 'breath': 2110, 'honey': 2111, 'nonfruit': 2112, 'dryseeming': 2113, 'roughwoody': 2114, 'lose': 2115, 'someone': 2116, 'chene': 850, 'extravagent': 2740, 'crianza': 2118, 'amber': 2120, 'sometime': 1318, 'swan': 2121, 'pfalzy': 2122, 'slang': 2123, 'worries': 2124, 'coconut': 2125, 'strong': 1320, 'overlooking': 2126, 'example': 2262, 'enjoy': 2128, 'means': 2129, 'wonderful': 2130, 'extravagently': 2131, 'redcurrant': 2132, 'feeble': 143, 'eve': 2133, '1er': 2134, 'meursaults': 2135, 'reason': 2136, 'sauvignonlike': 2137, 'nowehere': 2138, 'bunch': 2271, 'dangerously': 112, 'pc': 2140, 'pizzaz': 2142, 'light': 2143, 'provencal': 2144, 'liquour': 2145, 'flavoursome': 2268, 'touches': 2146, 'lead': 2147, '125': 2148, 'vallana': 2149, 'amazingly': 1326, 'sauvignon': 2150, 'lot': 2152, 'along': 2153, 'guts': 1350, 'steely': 2154, 'disappeared': 2156, '1999': 2157, 'note': 2158, 'silkytestured': 2159, 'measure': 2160, 'fetid': 2161, 'calling': 1083, 'ease': 2162, 'fat': 2163, 'unassuming': 2164, 'try': 2165, 'apricoty': 2166, 'rubbery': 2167, 'spicyness': 2168, 'interested': 1330, 'repays': 2169, 'coliseo': 2170, 'fruity': 2171, 'hurried': 388, 'hoped': 2173, 'welldefined': 2174, 'combining': 2175, 'curiosity': 2176, 'rely': 2178, 'new': 2179, 'sense': 2180, 'billing': 1334, 'becaus': 2181, 'revelation': 2183, 'mouth': 2184, 'company': 2185, 'monastry': 2186, '721': 2187, 'nodding': 2188, 'sure': 2189, 'suggestion': 1335, 'champenois': 1488, 'tannin': 393, 'metaphorically': 2191, 'ablout': 2192, 'tighter': 2193, 'dropped': 395, 'hill': 2194, 'dominate': 2195, 'brownsugar': 1801, 'perret': 2197, 'decanting': 2198, 'saying': 2199, 'dom': 2200, 'bad': 2201, 'yrs': 2202, 'tiny': 865, 'older': 2204, 'fantastic': 2205, 'paper': 2206, 'inner': 2755, 'ever': 2207, 'warm': 2208, 'charmingly': 868, 'judge': 2209, 'cheese': 2210, 'earthy': 2211, 'pushed': 2212, 'tasting': 2213, 'romanee': 2214, 'sold': 2216, 'nectarine': 2521, 'grenache': 2219, 'easier': 2220, 'caramel': 2221, 'recently': 2222, 'lunchtime': 2223, 'current': 2224, 'inside': 2225, 'bottom': 2227, 'holding': 2229, 'taught': 873, 'grotesque': 2402, 'faulty': 2231, 'heres': 2232, 'ahead': 2233, 'low': 2280, 'right': 2234, 'beans': 2236, 'lychee': 2237, 'write': 2238, 'list': 2239, 'billecart': 2240, 'brambly': 2243, 'vines': 2242, 'coterotie': 2244, 'smith': 2245, 'closed': 2246, 'cant': 2282, 'bite': 2247, 'tanins': 2248, 'labels': 2249, 'thin': 2250, 'what': 402, 'project': 2251, 'sediment': 2252, 'cod': 2253, 'gevreys': 2254, 'our': 2255, 'glycerol': 2256, 'reminds': 2257, 'unpleasant': 2258, 'thrash': 2259, 'hollow': 2260, 'shrivelled': 2261, 'evolving': 2263, 'complexity': 2264, 'unstable': 2265, 'orchard': 2266, 'mean': 2267, 'beychevelle': 2270, 'reasonable': 1814, 'quieter': 2272, 'quaffable': 1271, 'challenging': 2273, 'blackcurrant': 2274, 'ridge': 1351, 'alongside': 2275, 'oakinfluenced': 2276, 'savoury': 2277, 'greengage': 2278, 'highertoned': 2279, 'europeanstyled': 2281, 'disgorged': 2768, 'rhones': 2283, 'failed': 2284, 'understand': 2285, 'lesser': 2286, 'zinfandels': 2769, 'vt': 2287, 'necessarily': 2288, 'taut': 2289, 'visiting': 2290, 'xmas': 2292, 'delivers': 1820, 'smooth': 2293, 'striking': 2294, 'oxidized': 2295, 'immediate': 408, 'gorgeous': 2296, 'varietal': 2297, 'alsace': 2298, 'deftness': 2301, 'featureless': 2300, 'softer': 2291, 'reflecting': 2303, 'lacks': 411, 'idiosyncratic': 2308, 'compartments': 2307, '85': 1724, 'metallic': 2309, '3': 2311, 'serving': 2312, 'englishmans': 881, 'kernels': 2313, 'vintage': 2314, 'liquid': 2315, 'round': 2316, 'complete': 2317, 'quitelargeframed': 2318, 'sharply': 884, 'suaver': 2319, 'highlywrought': 1358, 'cheaper': 2320, 'enough': 2321, 'olorosolike': 2322, 'reveal': 2324, 'effort': 2325, 'forthcoming': 2326, 'bubbles': 1994, 'backup': 2328, 'pepper': 2329, 'drama': 2330, 'less': 2331, 'piercing': 2776, 'perhpas': 2332, 'cranberryedged': 2333, 'jam': 2334, 'currants': 1824, 'olfashioned': 2338, 'head': 2339, 'edgyness': 2340, 'muscular': 2342, 'cigar': 2343, 'grapefruity': 2344, 'repay': 1364, 'brion': 2345, 'guigal': 2346, 'rhonish': 2347, 'cleanly': 2348, 'positively': 2349, 'regret': 2350, 'pinot': 2352, 'st': 2353, 'steel': 2354, 'stable': 2299, 'harshness': 2355, 'comparison': 2356, 'scrutiny': 2359, 'fizzy': 2358, 'sancerre': 2360, 'woody': 2779, 'tinge': 2361, '1991': 2362, 'beyond': 2364, 'foetid': 2365, 'superficial': 2366, 'pleasure': 2368, 'around': 2369, 'baked': 2370, 'trouble': 2014, 'mt': 2372, 'ginger': 858, 'contribute': 2373, 'fruitiness': 1832, 'varnishy': 2783, 'backward': 2374, 'corkiness': 2376, 'below': 2377, 'daughter': 2378, 'laid': 2379, 'roda': 2380, 'rosegarden': 1835, '70': 2381, 'now': 2304, 'bordering': 2382, 'making': 2305, 'sauternes': 2383, 'winemakers': 2384, 'garganega': 2385, 'animality': 2386, 'madeira': 2388, 'peachy': 2389, 'leesy': 2390, 'spices': 2391, 'mouthful': 2392, 'together': 897, 'easy': 2393, 'deep': 2394, 'statement': 2395, 'feel': 2310, 'hell': 1837, 'oscillated': 2155, 'pleasantish': 2397, 'liked': 2399, 'studied': 2400, 'intensity': 2401, 'underfoot': 1841, 'succulence': 2403, 'tends': 2405, 'unfamiliar': 1842, 'involved': 1376, 'subjected': 2406, 'kerosene': 2407, 'blackcurranty': 2408, 'standards': 2409, 'were': 2411, 'battonage': 2790, 'topclass': 2412, 'havent': 2413, 'discussion': 2414, '1982': 2415, 'given': 2416, 'aging': 2417, 'julien': 2418, 'candied': 428, 'evolved': 2419, 'odd': 2420, 'shortish': 2422, 'blueberry': 2423, 'wellbred': 2424, 'majorca': 2425, 'toby': 2427, 'develop': 2428, 'hibiscus': 907, 'ga': 2429, 'yummy': 1847, 'prickle': 2430, 'rough': 2431, 'entirely': 2432, 'zingy': 2433, 'rushing': 87, 'gutsiness': 2434, 'bash': 2435, 'demanding': 2436, 'stinky': 359, 'case': 2437, 'drunk': 2438, 'vavavoom': 2439, 'gargenega': 2440, 'succulent': 2441, 'crisp': 2442, 'nebbiolo': 2443, 'ask': 2444, 'sucks': 2445, '1996': 914, 'reliable': 2446, 'styled': 2447, 'isole': 433, 'outrageously': 1382, 'bready': 2448, 'mood': 2449, 'beginning': 434, 'age': 2451, 'balancing': 2799, 'dominated': 2452, 'slight': 2453, 'marked': 2454, '890': 2455, 'suspiciously': 919, 'sepcially': 2456, 'tangy': 2802, '96': 916, 'riesling': 2457, 'drining': 2459, 'awkward': 2460, 'hightoned': 2461, 'his': 2462, 'stylistic': 2465, 'sousbois': 2466, 'preparation': 2323, 'supposedly': 2467, 'drinkabe': 2469, 'briochey': 2470, 'altogether': 2472, 'two': 2473, 'indeed': 2474, 'tempered': 2475, 'tells': 2805, 'hotel': 2476, 'ruit': 2477, 'label': 2478, 'tastebuds': 2479, 'if': 2480, 'oxidising': 2481, 'controlled': 2483, 'technically': 2484, 'viognier': 2151, 'metalliccardboard': 2485, 'surprise': 2486, 'ry': 2487, 'either': 2811, 'appeal': 2488, 'bacchus': 2489, 'many': 2490, 'paintstripper': 2491, 'few': 2327, 'bargain': 2493, 'public': 2494, 'hold': 2495, 'behind': 2496, 'spritz': 2497, 'contemplatively': 2498, '20': 2499, 'lifted': 2501, 'table': 2502, 'or': 2504, 'box': 1857, 'finesse': 2507, 'had': 2506, 'lost': 1393, 'background': 2592, 'finding': 2508, 'stirred': 2509, 'maume': 2510, 'village': 2511, 'disappointment': 2512, 'piney': 2513, 'personally': 2514, 'something': 2515, 'ljm': 2516, 'tasted': 2517, 'charcteristic': 2518, 'toffeefudge': 2519, 'pulignyish': 2520, 'stuffing': 2522, 'wrought': 2523, 'underneath': 2524, 'let': 1396, 'cooked': 2525, 'marchi': 2526, 'fragrance': 2527, 'grated': 2528, 'meatier': 2530, 'elagent': 2531, 'substantial': 2532, 'can': 2822, 'montrose': 2533, 'burnt': 450, 'short': 2534, 'approachable': 2536, 'excitement': 2537, 'youngish': 2538, 'tainted': 2539, 'undrinkability': 2540, 'scentedness': 2335, 'cru': 2541, 'alas': 2542, 'petals': 2543, 'treat': 2544, 'better': 2545, 'merlot': 2550, 'yeasty': 2548, 'bay': 2549, 'jammy': 2551, 'underlying': 2336, 'ringer': 2552, 'weaker': 2878, 'harsh': 2553, 'suave': 2554, 'degree': 2556, 'strange': 2558, 'over': 2559, 'thats': 2561, 'toast': 2563, 'almonds': 2564, 'lunch': 2567, 'seeming': 2568, 'terribly': 2569, 'keen': 1400, 'charm': 2571, 'benchmark': 2572, 'benefited': 2575, 'muchover': 2577, '1850s': 2576, 'will': 1876, 'golden': 2578, 'baseline': 2579, 'structured': 2580, 'giving': 2582, 'expensive': 2583, 'bright': 2584, 'onedimensional': 2585, 'again': 2586, 'horrible': 2587, 'powerful': 2588, 'wild': 2589, 'luncheon': 161, 'glad': 2590, 'woodinfluenced': 2593, 'breeding': 2594, 'nonetheless': 2595, 'engaging': 2596, 'clarets': 2598, 'minerality': 2599, 'similar': 2600, 'quarter': 2603, 'harder': 2604, 'offers': 2605, 'slope': 2606, 'only': 2607, 'chocolate': 2608, 'honeyinfluenced': 2840, 'gently': 2609, 'those': 1872, 'multifaceted': 931, 'great': 2611, 'oxidatively': 2612, 'criticise': 2613, 'chave': 2614, 'into': 2615, 'been': 2616, 'eighties': 2617, 'no': 2618, 'elusive': 2619, 'intellectually': 2620, 'flab': 2621, 'paving': 2622, 'hence': 2623, 'simply': 2624, 'tha': 2625, 'flattextured': 2626, 'add': 2627, 'final': 935, 'rosepetals': 2629, 'portugese': 2631, 'lively': 2632, 'square': 2633, 'attempt': 1408, '92': 2634, 'comlexity': 2635, 'north': 940, 'sets': 2636, 'junipergin': 2637, 'hedonistic': 2638, 'halfbottle': 2639, 'us': 2640, 'unfortunately': 2641, 'form': 2642, 'wildly': 464, 'reward': 2643, 'penfolds': 2645, 'dryness': 2646, 'slips': 2647, 'blonde': 2648, 'little': 2351, 'admiring': 2649, 'oldfashioned': 2653, 'tin': 2651, 'bdn': 2652, 'city': 2471, 'champenoise': 1412, 'rim': 2655, 'madeiralike': 2656, 'notr': 2657, 'browny': 2658, 'worry': 1199, 'vanillan': 2659, 'ill': 2660, 'we': 2661, 'appelation': 755, 'hazelnuts': 2662, 'dilutish': 764, 'flatness': 2663, 'lightcoloured': 2664, 'wasnt': 1115, 'colombier': 2665, 'method': 2667, 'marketing': 2668, 'tempranillo': 2669, 'rhone': 2670, 'being': 2672, 'late': 2673, 'relaxed': 2337, 'density': 2674, 'atypical': 2718, 'cranberries': 2675, 'simpler': 93, 'slowmoving': 2676, 'both': 2677, 'moderate': 2679, 'instance': 2680, 'aperetif': 2573, 'fuees': 2682, 'barleysugar': 2683, 'intrusive': 2684, 'plagues': 2685, 'aetherial': 2850, 'took': 2686, 'coarsened': 2687, 'red': 2688, 'e': 2690, 'modernstyle': 2691, 'grip': 2357, 'blushes': 2692, 'la': 1885, 'london': 2693, 'cassis': 2694, 'silky': 2695, 'preferably': 2696, 'softtextured': 2697, 'towards': 1888, 'sweetnes': 2698, 'robust': 2699, 'charming': 2700, 'monster': 2701, 'cheap': 2702, 'oxidativeness': 1701, 'above': 2703, 'youngest': 2706, 'find': 480, 'ready': 2707, 'controversy': 2708, 'cortese': 2709, 'rest': 2710, 'step': 2712, 'cloying': 2713, 'redwinelike': 2714, '78': 2715, 'universally': 2716, 'splendidly': 2717, 'soon': 2719, 'ideally': 2720, 'classification': 2722, 'keep': 2363, 'botrytised': 2723, 'suggestin': 2724, 'edgy': 2725, 'nosing': 2726, 'butterscotch': 2728, 'crantock': 2172, 'agreeable': 2729, 'versus': 2730, 'totally': 2731, 'spirit': 2732, 'corn': 2733, 'stained': 2734, 'vegans': 2735, 'flavoury': 2012, 'hemisphere': 1426, 'dramatically': 1071, 'cab': 1367, 'old': 2371, 'dinner': 2741, 'others': 475, 'youngseeming': 1431, 'thai': 2742, 'meatiness': 1616, 'sometimes': 2743, 'green': 2744, 'advert': 2745, 'fun': 2746, 'berry': 2747, 'reasonably': 2748, 'wouldnt': 1894, 'helping': 2751, 'five': 959, 'point': 2752, 'offdry': 2753, 'about': 2754, 'growers': 2758, 'peel': 2020, 'blind': 2757, 'restrained': 2759, 'elegantly': 2760, 'bordeauxblend': 2761, 'expect': 2762, 'balnced': 2763, 'sherry': 2764, 'carillons': 2765, 'single': 2767, 'quaffing': 114, 'deeper': 1897, 'thinking': 2770, 'mc': 1433, '1990': 2771, 'enjoyed': 2772, 'almond': 2773, 'intense': 2375, 'months': 2775, 'vertical': 1898, 'expanded': 2777, 'untravelled': 2778, 'creamytextured': 2780, 'shot': 2781, 'eiswein': 1361, 'analysis': 2784, 'lignier': 2785, 'selection': 2786, 'major': 2787, 'seems': 2788, 'icy': 2872, 'during': 2789, 'mouthwatering': 1900, 'stands': 2792, 'which': 2793, 'running': 2795, 'awkwardly': 2796, 'happened': 2798, 'funny': 966, 'patches': 2801, 'overdone': 2803, 'concebtration': 2804, 'risky': 2807, '95': 2806, 'english': 2808, 'dairy': 2809, 'creme': 2810, 'sacrificing': 2813, 'core': 2814, 'tropically': 2815, 'combined': 2816, 'werent': 2817, 'clean': 485, 'muscaty': 1442, 'proudly': 205, 'bonedry': 2818, 'reductiveness': 2821, 'blin': 2820, 'apricots': 2824, 'fruitier': 2823, 'people': 488, 'clear': 2827, 'delightful': 2828, 'four': 2829, 'bovril': 2830, 'cartizze': 2831, 'run': 2832, 'bought': 2833, 'spritzy': 2834, 'corks': 1674, 'planky': 2836, 'barrels': 2837, 'evolve': 2838, 'dessert': 2839, 'feared': 2841, 'swimming': 2842, 'whilst': 2843, 'appearance': 2844, 'decline': 2845, 'varieties': 2846, 'reductive': 2847, 'ribolla': 2848, 'distinct': 2879, 'every': 2849, 'emerge': 495, 'trocken': 2851, 'course': 2852, 'usually': 977, 'jasmin': 2853, 'doesnt': 543, 'richness': 2854, 'them': 2855, 'taste': 2856, 'consume': 2857, 'fizz': 2858, 'qualities': 2535, 'excessive': 2859, 'precise': 2003, 'become': 2861, 'flashiness': 2862, 'noir': 2492, 'struck': 2863, 'mix': 2864, 'duff': 2865, 'nicelytoned': 2866, 'barolo': 2867, 'typical': 1909, 'summery': 2868, 'masculine': 2869, 'family': 2870, 'jadots': 2871, 'persuaded': 2873, 'world': 1912, 'sample': 2874, 'strawberries': 2875, 'gravelly': 2387, 'amberedged': 2876, 'ozzy': 2877, 'strangely': 1975, 'undrinkable': 808, 'hardtoplace': 2880, 'gives': 2881, 'theyve': 1583, 'eight': 2882, 'keeper': 2883}\n"
     ]
    }
   ],
   "source": [
    "# Create map\n",
    "word_map = {}\n",
    "for i, key in enumerate(dictionary):\n",
    "    word_map[key] = i\n",
    "    \n",
    "print(word_map)"
   ]
  },
  {
   "cell_type": "code",
   "execution_count": 132,
   "metadata": {
    "collapsed": false
   },
   "outputs": [],
   "source": [
    "for i, review in enumerate(wine_reviews_raw):\n",
    "    \n",
    "    if labels_two_level[i] == 0:\n",
    "        \n",
    "        # Remove \"No Stars\" From Reviews With 0 Stars\n",
    "        if \"No Stars\" in review:\n",
    "            review = review.replace('No Stars','')\n",
    "            \n",
    "    words =  nltk.tokenize.word_tokenize(review.lower().translate(translator))\n",
    "    \n",
    "    for word in words:\n",
    "        if word in word_map:\n",
    "            data_as_vectors[i, word_map[word]] += 1"
   ]
  },
  {
   "cell_type": "code",
   "execution_count": 133,
   "metadata": {
    "collapsed": false
   },
   "outputs": [
    {
     "name": "stdout",
     "output_type": "stream",
     "text": [
      "[0. 0. 0. ... 0. 0. 0.]\n",
      "8.0\n"
     ]
    }
   ],
   "source": [
    "print(data_as_vectors[0])\n",
    "print(np.sum(data_as_vectors[0]))\n"
   ]
  },
  {
   "cell_type": "code",
   "execution_count": null,
   "metadata": {
    "collapsed": true
   },
   "outputs": [],
   "source": []
  }
 ],
 "metadata": {
  "kernelspec": {
   "display_name": "nb-env-Python3",
   "language": "python",
   "name": "nb-env-python3"
  },
  "language_info": {
   "codemirror_mode": {
    "name": "ipython",
    "version": 3
   },
   "file_extension": ".py",
   "mimetype": "text/x-python",
   "name": "python",
   "nbconvert_exporter": "python",
   "pygments_lexer": "ipython3",
   "version": "3.5.2"
  }
 },
 "nbformat": 4,
 "nbformat_minor": 0
}
